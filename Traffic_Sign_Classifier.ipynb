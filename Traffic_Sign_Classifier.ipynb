{
 "cells": [
  {
   "cell_type": "markdown",
   "metadata": {},
   "source": [
    "# Self-Driving Car Engineer Nanodegree\n",
    "\n",
    "## Deep Learning\n",
    "\n",
    "## Project: Build a Traffic Sign Recognition Classifier\n",
    "\n",
    "In this notebook, a template is provided for you to implement your functionality in stages which is required to successfully complete this project. If additional code is required that cannot be included in the notebook, be sure that the Python code is successfully imported and included in your submission, if necessary. Sections that begin with **'Implementation'** in the header indicate where you should begin your implementation for your project. Note that some sections of implementation are optional, and will be marked with **'Optional'** in the header.\n",
    "\n",
    "In addition to implementing code, there will be questions that you must answer which relate to the project and your implementation. Each section where you will answer a question is preceded by a **'Question'** header. Carefully read each question and provide thorough answers in the following text boxes that begin with **'Answer:'**. Your project submission will be evaluated based on your answers to each of the questions and the implementation you provide.\n",
    "\n",
    ">**Note:** Code and Markdown cells can be executed using the **Shift + Enter** keyboard shortcut. In addition, Markdown cells can be edited by typically double-clicking the cell to enter edit mode."
   ]
  },
  {
   "cell_type": "markdown",
   "metadata": {},
   "source": [
    "---\n",
    "## Step 0: Load The Data"
   ]
  },
  {
   "cell_type": "code",
   "execution_count": 5,
   "metadata": {
    "collapsed": false
   },
   "outputs": [
    {
     "name": "stdout",
     "output_type": "stream",
     "text": [
      "Training size x 39209\n",
      "Training size y 39209\n",
      "Test size x 12630\n",
      "Test size y 12630\n",
      "Image shape (32, 32, 3)\n",
      "Classes 43\n"
     ]
    }
   ],
   "source": [
    "# Load pickled data\n",
    "import pickle\n",
    "from sklearn.model_selection import train_test_split\n",
    "import numpy as np\n",
    "\n",
    "# TODO: Fill this in based on where you saved the training and testing data\n",
    "\n",
    "training_file = '../train.p'\n",
    "testing_file = '../test.p'\n",
    "\n",
    "with open(training_file, mode='rb') as f:\n",
    "    train = pickle.load(f)\n",
    "with open(testing_file, mode='rb') as f:\n",
    "    test = pickle.load(f)\n",
    "\n",
    "X_train_raw, y_train_raw = train['features'], train['labels']\n",
    "X_test_raw, y_test = test['features'], test['labels']\n",
    "\n",
    "print(\"Training size x {}\".format(len(X_train_raw)))\n",
    "print(\"Training size y {}\".format(len(y_train_raw)))\n",
    "print(\"Test size x {}\".format(len(X_test_raw)))\n",
    "print(\"Test size y {}\".format(len(y_test)))\n",
    "\n",
    "print(\"Image shape {}\".format(X_train_raw[0].shape))\n",
    "\n",
    "print(\"Classes {}\".format(len(set(y_train_raw))))\n"
   ]
  },
  {
   "cell_type": "markdown",
   "metadata": {},
   "source": [
    "---\n",
    "\n",
    "## Step 1: Dataset Summary & Exploration\n",
    "\n",
    "The pickled data is a dictionary with 4 key/value pairs:\n",
    "\n",
    "- `'features'` is a 4D array containing raw pixel data of the traffic sign images, (num examples, width, height, channels).\n",
    "- `'labels'` is a 2D array containing the label/class id of the traffic sign. The file `signnames.csv` contains id -> name mappings for each id.\n",
    "- `'sizes'` is a list containing tuples, (width, height) representing the the original width and height the image.\n",
    "- `'coords'` is a list containing tuples, (x1, y1, x2, y2) representing coordinates of a bounding box around the sign in the image. **THESE COORDINATES ASSUME THE ORIGINAL IMAGE. THE PICKLED DATA CONTAINS RESIZED VERSIONS (32 by 32) OF THESE IMAGES**\n",
    "\n",
    "Complete the basic data summary below."
   ]
  },
  {
   "cell_type": "code",
   "execution_count": 6,
   "metadata": {
    "collapsed": false
   },
   "outputs": [
    {
     "name": "stdout",
     "output_type": "stream",
     "text": [
      "Number of training examples = 39209\n",
      "Number of testing examples = 12630\n",
      "Image data shape = (32, 32, 3)\n",
      "Number of classes = 43\n"
     ]
    }
   ],
   "source": [
    "### Replace each question mark with the appropriate value.\n",
    "\n",
    "# TODO: Number of training examples\n",
    "n_train = X_train_raw.shape[0]\n",
    "\n",
    "# TODO: Number of testing examples.\n",
    "n_test = X_test_raw.shape[0]\n",
    "\n",
    "# TODO: What's the shape of an traffic sign image?\n",
    "image_shape = X_train_raw[0].shape\n",
    "\n",
    "# TODO: How many unique classes/labels there are in the dataset.\n",
    "n_classes = len(np.unique(y_test))\n",
    "\n",
    "print(\"Number of training examples =\", n_train)\n",
    "print(\"Number of testing examples =\", n_test)\n",
    "print(\"Image data shape =\", image_shape)\n",
    "print(\"Number of classes =\", n_classes)\n",
    "\n"
   ]
  },
  {
   "cell_type": "markdown",
   "metadata": {},
   "source": [
    "Visualize the German Traffic Signs Dataset using the pickled file(s). This is open ended, suggestions include: plotting traffic sign images, plotting the count of each sign, etc.\n",
    "\n",
    "The [Matplotlib](http://matplotlib.org/) [examples](http://matplotlib.org/examples/index.html) and [gallery](http://matplotlib.org/gallery.html) pages are a great resource for doing visualizations in Python.\n",
    "\n",
    "**NOTE:** It's recommended you start with something simple first. If you wish to do more, come back to it after you've completed the rest of the sections."
   ]
  },
  {
   "cell_type": "code",
   "execution_count": 7,
   "metadata": {
    "collapsed": false
   },
   "outputs": [
    {
     "name": "stdout",
     "output_type": "stream",
     "text": [
      "2\n"
     ]
    },
    {
     "data": {
      "image/png": "[encoded data removed]",
      "text/plain": [
       "<matplotlib.figure.Figure at 0x7f09270aa048>"
      ]
     },
     "metadata": {},
     "output_type": "display_data"
    },
    {
     "data": {
      "image/png": "[encoded data removed]",
      "text/plain": [
       "<matplotlib.figure.Figure at 0x7f09222b19e8>"
      ]
     },
     "metadata": {},
     "output_type": "display_data"
    }
   ],
   "source": [
    "### Data exploration visualization goes here.\n",
    "### Feel free to use as many code cells as needed.\n",
    "import random\n",
    "import numpy as np\n",
    "import matplotlib.pyplot as plt\n",
    "# Visualizations will be shown in the notebook.\n",
    "%matplotlib inline\n",
    "\n",
    "index = random.randint(0, len(X_train_raw))\n",
    "image = X_train_raw[index]\n",
    "plt.hist(y_train_raw, bins=range(43))\n",
    "\n",
    "plt.figure(figsize=(1,1))\n",
    "plt.imshow(image)\n",
    "print(y_train_raw[index])"
   ]
  },
  {
   "cell_type": "markdown",
   "metadata": {},
   "source": [
    "----\n",
    "\n",
    "## Step 2: Design and Test a Model Architecture\n",
    "\n",
    "Design and implement a deep learning model that learns to recognize traffic signs. Train and test your model on the [German Traffic Sign Dataset](http://benchmark.ini.rub.de/?section=gtsrb&subsection=dataset).\n",
    "\n",
    "There are various aspects to consider when thinking about this problem:\n",
    "\n",
    "- Neural network architecture\n",
    "- Play around preprocessing techniques (normalization, rgb to grayscale, etc)\n",
    "- Number of examples per label (some have more than others).\n",
    "- Generate fake data.\n",
    "\n",
    "Here is an example of a [published baseline model on this problem](http://yann.lecun.com/exdb/publis/pdf/sermanet-ijcnn-11.pdf). It's not required to be familiar with the approach used in the paper but, it's good practice to try to read papers like these.\n",
    "\n",
    "**NOTE:** The LeNet-5 implementation shown in the [classroom](https://classroom.udacity.com/nanodegrees/nd013/parts/fbf77062-5703-404e-b60c-95b78b2f3f9e/modules/6df7ae49-c61c-4bb2-a23e-6527e69209ec/lessons/601ae704-1035-4287-8b11-e2c2716217ad/concepts/d4aca031-508f-4e0b-b493-e7b706120f81) at the end of the CNN lesson is a solid starting point. You'll have to change the number of classes and possibly the preprocessing, but aside from that it's plug and play!"
   ]
  },
  {
   "cell_type": "markdown",
   "metadata": {},
   "source": [
    "### Implementation\n",
    "\n",
    "Use the code cell (or multiple code cells, if necessary) to implement the first step of your project. Once you have completed your implementation and are satisfied with the results, be sure to thoroughly answer the questions that follow."
   ]
  },
  {
   "cell_type": "code",
   "execution_count": 8,
   "metadata": {
    "collapsed": false
   },
   "outputs": [
    {
     "name": "stderr",
     "output_type": "stream",
     "text": [
      "/home/sean/anaconda3/envs/CarND-Traffic-Sign-Classifier-Project/lib/python3.5/site-packages/sklearn/utils/validation.py:429: DataConversionWarning: Data with input dtype uint8 was converted to float64 by MinMaxScaler.\n",
      "  warnings.warn(msg, _DataConversionWarning)\n"
     ]
    },
    {
     "name": "stdout",
     "output_type": "stream",
     "text": [
      "10\n"
     ]
    },
    {
     "data": {
      "image/png": "[encoded data removed]",
      "text/plain": [
       "<matplotlib.figure.Figure at 0x7f0924a39128>"
      ]
     },
     "metadata": {},
     "output_type": "display_data"
    }
   ],
   "source": [
    "import tensorflow as tf\n",
    "from sklearn.utils import shuffle\n",
    "from sklearn import preprocessing\n",
    "from sklearn.preprocessing import FunctionTransformer\n",
    "%matplotlib inline\n",
    "### Preprocess the data here.\n",
    "\n",
    "X_train_tmp = X_train_raw.reshape(X_train_raw.shape[0],-1)\n",
    "X_test_tmp = X_test_raw.reshape(X_test_raw.shape[0],-1)\n",
    "\n",
    "minmax_scale = preprocessing.MinMaxScaler().fit(X_train_tmp)\n",
    "X_train_norm = minmax_scale.transform(X_train_tmp).reshape(X_train_raw.shape)\n",
    "X_test = minmax_scale.transform(X_test_tmp).reshape(X_test_raw.shape)\n",
    "\n",
    "index = random.randint(0, len(X_train_norm))\n",
    "image = X_train_norm[index]\n",
    "\n",
    "plt.figure(figsize=(1,1))\n",
    "plt.imshow(image)\n",
    "print(y_train_raw[index])\n",
    "\n",
    "#X_train, y_train = shuffle(X_train_norm, y_train_raw)\n"
   ]
  },
  {
   "cell_type": "markdown",
   "metadata": {},
   "source": [
    "### Question 1 \n",
    "\n",
    "_Describe how you preprocessed the data. Why did you choose that technique?_"
   ]
  },
  {
   "cell_type": "code",
   "execution_count": null,
   "metadata": {
    "collapsed": true
   },
   "outputs": [],
   "source": [
    "\"\"\"\n",
    "I used scikit-learn's MinMax normalization, this reduces the input to within [0,1] and gives the data equal variance.\n",
    "This standardization helps prevent the optimizer from getting stuck in local minima while training, as all the \n",
    "features are normalized to similar range so all the weights should train at same speed.\n",
    "\"\"\""
   ]
  },
  {
   "cell_type": "markdown",
   "metadata": {},
   "source": [
    "**Answer:**\n",
    "\n"
   ]
  },
  {
   "cell_type": "code",
   "execution_count": 74,
   "metadata": {
    "collapsed": true
   },
   "outputs": [],
   "source": [
    "### Generate data additional data (OPTIONAL!)\n",
    "### and split the data into training/validation/testing sets here.\n",
    "### Feel free to use as many code cells as needed.\n",
    "\n",
    "X_train, X_validation, y_train, y_validation= train_test_split(X_train_norm, y_train_raw,test_size=0.2,random_state=15)\n"
   ]
  },
  {
   "cell_type": "markdown",
   "metadata": {},
   "source": [
    "### Question 2\n",
    "\n",
    "_Describe how you set up the training, validation and testing data for your model. **Optional**: If you generated additional data, how did you generate the data? Why did you generate the data? What are the differences in the new dataset (with generated data) from the original dataset?_"
   ]
  },
  {
   "cell_type": "code",
   "execution_count": null,
   "metadata": {
    "collapsed": true
   },
   "outputs": [],
   "source": [
    "\"\"\"\n",
    "I created a validation set using the train_test_split function from scikit-learn. I use 20% of the training set\n",
    "as the validation set. I experimented with generating data using random rotations and scales, but ended up having\n",
    "issues with image format so did not include it in my submission.\n",
    "\"\"\""
   ]
  },
  {
   "cell_type": "markdown",
   "metadata": {},
   "source": [
    "**Answer:**"
   ]
  },
  {
   "cell_type": "code",
   "execution_count": 75,
   "metadata": {
    "collapsed": true
   },
   "outputs": [],
   "source": [
    "from tensorflow.contrib.layers import flatten\n",
    "import tensorflow as tf\n",
    "\n",
    "mu = 0\n",
    "sigma = 0.1\n",
    "\n",
    "weights= [tf.Variable(tf.truncated_normal([3, 3, 3, 32],mean = mu, stddev = sigma)),\n",
    "tf.Variable(tf.truncated_normal([3, 3, 32, 32],mean = mu, stddev = sigma)),\n",
    "tf.Variable(tf.truncated_normal([3, 3, 32, 96],mean = mu, stddev = sigma)),\n",
    "tf.Variable(tf.truncated_normal([3, 3, 96, 96],mean = mu, stddev = sigma)),\n",
    "tf.Variable(tf.truncated_normal([2400, 400],mean = mu, stddev = sigma)),\n",
    "tf.Variable(tf.truncated_normal([400, 84],mean = mu, stddev = sigma)),\n",
    "tf.Variable(tf.truncated_normal([84, 43],mean = mu, stddev = sigma))]\n",
    "\n",
    "bias =[tf.Variable(tf.zeros(32)),\n",
    "tf.Variable(tf.zeros(32)),\n",
    "tf.Variable(tf.zeros(96)),\n",
    "tf.Variable(tf.zeros(96)),\n",
    "tf.Variable(tf.zeros(400)),\n",
    "tf.Variable(tf.zeros(84)),\n",
    "tf.Variable(tf.zeros(43))]\n",
    "\n",
    "def conv2d(x, W, b, strides=1): \n",
    "    x = tf.nn.conv2d(x, W, strides=[1, strides, strides, 1], padding='VALID') \n",
    "    x = tf.nn.bias_add(x, b) \n",
    "    return tf.nn.relu(x)\n",
    "\n",
    "def LeNet(x, weights, bias):    \n",
    "    x = tf.nn.dropout(x, keep_prob2)\n",
    "    \n",
    "    conv_net = conv2d(x,weights[0],bias[0],1)\n",
    "    \n",
    "    #downsample\n",
    "    conv_net = conv2d(conv_net,weights[1],bias[1],2)    \n",
    "    conv_net = tf.nn.dropout(conv_net, keep_prob)\n",
    "    \n",
    "    conv_net = conv2d(conv_net,weights[2],bias[2],1)\n",
    "    \n",
    "    #downsample\n",
    "    conv_net = conv2d(conv_net,weights[3],bias[3],2)\n",
    "    conv_net = tf.nn.dropout(conv_net, keep_prob)\n",
    "    \n",
    "    #fully connected layer\n",
    "    fc1 = tf.reshape( conv_net,[-1, 2400]) \n",
    "    fc1 = tf.add(tf.matmul(fc1, weights[4]), bias[4]) \n",
    "    fc1 = tf.nn.relu(fc1) \n",
    "    fc1 = tf.nn.dropout(fc1, keep_prob)\n",
    "\n",
    "    #fully connected layer\n",
    "    fc2 = tf.add(tf.matmul(fc1, weights[5]), bias[5]) \n",
    "    fc2 = tf.nn.relu(fc2) \n",
    "    fc2 = tf.nn.dropout(fc2, keep_prob)\n",
    "    \n",
    "    logits = tf.add(tf.matmul(fc2, weights[6]), bias[6])\n",
    "    \n",
    "    return logits"
   ]
  },
  {
   "cell_type": "markdown",
   "metadata": {},
   "source": [
    "### Question 3\n",
    "\n",
    "_What does your final architecture look like? (Type of model, layers, sizes, connectivity, etc.)  For reference on how to build a deep neural network using TensorFlow, see [Deep Neural Network in TensorFlow\n",
    "](https://classroom.udacity.com/nanodegrees/nd013/parts/fbf77062-5703-404e-b60c-95b78b2f3f9e/modules/6df7ae49-c61c-4bb2-a23e-6527e69209ec/lessons/b516a270-8600-4f93-a0a3-20dfeabe5da6/concepts/83a3a2a2-a9bd-4b7b-95b0-eb924ab14432) from the classroom._\n"
   ]
  },
  {
   "cell_type": "markdown",
   "metadata": {},
   "source": [
    "**Answer:**"
   ]
  },
  {
   "cell_type": "code",
   "execution_count": null,
   "metadata": {
    "collapsed": true
   },
   "outputs": [],
   "source": [
    "\"\"\"\n",
    "My architecture is based off the LeNet lab, but I used convolutions for downsampling instead of max pooling\n",
    "layers. In addtion I used all 3X3 convolutions. These changes were inspired by [1] as I discuss in question 5. For\n",
    "regularization I used dropout and L2. For the depth of the convolutions I start out with 32 and increased it to 96\n",
    "in the next layer, I found these changes greatly improved the networks accuracy on the validation set. \n",
    "\n",
    "INPUT -> [CONV -> RELU -> POOL(Conv with stride of 2) -> Dropout]*2 -> FC -> RELU -> Dropout -> FC -> Dropout\n",
    "\n",
    "[1] Jost Tobias Springenberg, Alexey Dosovitskiy, Thomas Brox, Martin A. Riedmiller:\n",
    "Striving for Simplicity: The All Convolutional Net. CoRR abs/1412.6806 (2014)\n",
    "\"\"\""
   ]
  },
  {
   "cell_type": "code",
   "execution_count": 76,
   "metadata": {
    "collapsed": true
   },
   "outputs": [],
   "source": [
    "EPOCHS = 30\n",
    "BATCH_SIZE = 128\n",
    "\n",
    "x = tf.placeholder(tf.float32, (None, 32, 32, 3))\n",
    "y = tf.placeholder(tf.int32, (None))\n",
    "rate = tf.placeholder(tf.float32)\n",
    "\n",
    "keep_prob = tf.placeholder(tf.float32)\n",
    "keep_prob2 = tf.placeholder(tf.float32)\n",
    "one_hot_y = tf.one_hot(y, 43)"
   ]
  },
  {
   "cell_type": "code",
   "execution_count": 77,
   "metadata": {
    "collapsed": false
   },
   "outputs": [],
   "source": [
    "logits = LeNet(x, weights, bias)\n",
    "beta = 0.0005\n",
    "\n",
    "#cross entropy with L2 regularization\n",
    "cross_entropy = tf.nn.softmax_cross_entropy_with_logits(logits, one_hot_y) + \\\n",
    "                    beta*tf.nn.l2_loss(weights[0]) + \\\n",
    "                    beta*tf.nn.l2_loss(weights[1]) + \\\n",
    "                    beta*tf.nn.l2_loss(weights[2]) + \\\n",
    "                    beta*tf.nn.l2_loss(weights[3]) + \\\n",
    "                    beta*tf.nn.l2_loss(weights[4]) + \\\n",
    "                    beta*tf.nn.l2_loss(weights[5]) + \\\n",
    "                    beta*tf.nn.l2_loss(weights[6])\n",
    "\n",
    "\n",
    "loss_operation = tf.reduce_mean(cross_entropy)\n",
    "optimizer = tf.train.AdamOptimizer(learning_rate = rate)\n",
    "training_operation = optimizer.minimize(loss_operation)\n",
    "\n",
    "correct_prediction = tf.equal(tf.argmax(logits, 1), tf.argmax(one_hot_y, 1))\n",
    "accuracy_operation = tf.reduce_mean(tf.cast(correct_prediction, tf.float32))\n",
    "saver = tf.train.Saver()\n",
    "\n",
    "def evaluate(X_data, y_data):\n",
    "    num_examples = len(X_data)\n",
    "    total_accuracy = 0\n",
    "    sess = tf.get_default_session()\n",
    "    for offset in range(0, num_examples, BATCH_SIZE):\n",
    "        batch_x, batch_y = X_data[offset:offset+BATCH_SIZE], y_data[offset:offset+BATCH_SIZE]\n",
    "        accuracy = sess.run(accuracy_operation, feed_dict={x: batch_x, y: batch_y, keep_prob: 1.0, keep_prob2: 1.0, rate: 0.001})\n",
    "        total_accuracy += (accuracy * len(batch_x))\n",
    "    return total_accuracy / num_examples"
   ]
  },
  {
   "cell_type": "code",
   "execution_count": 78,
   "metadata": {
    "collapsed": false
   },
   "outputs": [
    {
     "name": "stdout",
     "output_type": "stream",
     "text": [
      "Training...\n",
      "\n",
      "EPOCH 1 ...\n",
      "Validation Accuracy = 0.449\n",
      "\n",
      "EPOCH 2 ...\n",
      "Validation Accuracy = 0.710\n",
      "\n",
      "EPOCH 3 ...\n",
      "Validation Accuracy = 0.891\n",
      "\n",
      "EPOCH 4 ...\n",
      "Validation Accuracy = 0.933\n",
      "\n",
      "EPOCH 5 ...\n",
      "Validation Accuracy = 0.959\n",
      "\n",
      "EPOCH 6 ...\n",
      "Validation Accuracy = 0.973\n",
      "\n",
      "EPOCH 7 ...\n",
      "Validation Accuracy = 0.978\n",
      "\n",
      "EPOCH 8 ...\n",
      "Validation Accuracy = 0.981\n",
      "\n",
      "EPOCH 9 ...\n",
      "Validation Accuracy = 0.983\n",
      "\n",
      "EPOCH 10 ...\n",
      "Validation Accuracy = 0.987\n",
      "\n",
      "EPOCH 11 ...\n",
      "Validation Accuracy = 0.988\n",
      "\n",
      "EPOCH 12 ...\n",
      "Validation Accuracy = 0.986\n",
      "\n",
      "EPOCH 13 ...\n",
      "Validation Accuracy = 0.989\n",
      "\n",
      "EPOCH 14 ...\n",
      "Validation Accuracy = 0.987\n",
      "\n",
      "EPOCH 15 ...\n",
      "Validation Accuracy = 0.991\n",
      "\n",
      "EPOCH 16 ...\n",
      "Validation Accuracy = 0.991\n",
      "\n",
      "EPOCH 17 ...\n",
      "Validation Accuracy = 0.991\n",
      "\n",
      "EPOCH 18 ...\n",
      "Validation Accuracy = 0.991\n",
      "\n",
      "EPOCH 19 ...\n",
      "Validation Accuracy = 0.992\n",
      "\n",
      "EPOCH 20 ...\n",
      "Validation Accuracy = 0.990\n",
      "\n",
      "EPOCH 21 ...\n",
      "Validation Accuracy = 0.994\n",
      "\n",
      "EPOCH 22 ...\n",
      "Validation Accuracy = 0.993\n",
      "\n",
      "EPOCH 23 ...\n",
      "Validation Accuracy = 0.994\n",
      "\n",
      "EPOCH 24 ...\n",
      "Validation Accuracy = 0.991\n",
      "\n",
      "EPOCH 25 ...\n",
      "Validation Accuracy = 0.994\n",
      "\n",
      "EPOCH 26 ...\n",
      "Validation Accuracy = 0.993\n",
      "\n",
      "EPOCH 27 ...\n",
      "Validation Accuracy = 0.993\n",
      "\n",
      "EPOCH 28 ...\n",
      "Validation Accuracy = 0.993\n",
      "\n",
      "EPOCH 29 ...\n",
      "Validation Accuracy = 0.994\n",
      "\n",
      "EPOCH 30 ...\n",
      "Validation Accuracy = 0.993\n",
      "\n",
      "Model saved\n"
     ]
    }
   ],
   "source": [
    "with tf.Session() as sess:\n",
    "    sess.run(tf.global_variables_initializer())\n",
    "    num_examples = len(X_train)\n",
    "     \n",
    "    #{x: batch_x, y: batch_y,keep_prob: 0.5}\n",
    "    print(\"Training...\")\n",
    "    print()\n",
    "    for i in range(EPOCHS):\n",
    "        l_rate = 0.001\n",
    "        X_train, y_train = shuffle(X_train, y_train)\n",
    "        for offset in range(0, num_examples, BATCH_SIZE):\n",
    "            end = offset + BATCH_SIZE\n",
    "            batch_x, batch_y = X_train[offset:end], y_train[offset:end]\n",
    "            sess.run(training_operation, feed_dict={x: batch_x, y: batch_y, keep_prob: 0.5, keep_prob2: 1.0, rate: l_rate})\n",
    "            \n",
    "        validation_accuracy = evaluate(X_validation, y_validation)\n",
    "        print(\"EPOCH {} ...\".format(i+1))\n",
    "        print(\"Validation Accuracy = {:.3f}\".format(validation_accuracy))\n",
    "        print()\n",
    "        \n",
    "    saver.save(sess, 'traffic-signs')\n",
    "    print(\"Model saved\")"
   ]
  },
  {
   "cell_type": "code",
   "execution_count": 79,
   "metadata": {
    "collapsed": false
   },
   "outputs": [
    {
     "name": "stdout",
     "output_type": "stream",
     "text": [
      "Test Accuracy = 0.976\n"
     ]
    }
   ],
   "source": [
    "#Evaluate Model on test set\n",
    "with tf.Session() as sess:\n",
    "    saver.restore(sess, tf.train.latest_checkpoint('.'))\n",
    "\n",
    "    test_accuracy = evaluate(X_test, y_test)\n",
    "    \n",
    "    print(\"Test Accuracy = {:.3f}\".format(test_accuracy))"
   ]
  },
  {
   "cell_type": "code",
   "execution_count": 110,
   "metadata": {
    "collapsed": false,
    "scrolled": true
   },
   "outputs": [
    {
     "name": "stdout",
     "output_type": "stream",
     "text": [
      "             precision    recall  f1-score   support\n",
      "\n",
      "          0       0.97      1.00      0.98        60\n",
      "          1       0.94      0.99      0.96       720\n",
      "          2       0.98      0.99      0.98       750\n",
      "          3       0.99      0.96      0.98       450\n",
      "          4       0.99      0.98      0.99       660\n",
      "          5       0.96      0.99      0.97       630\n",
      "          6       1.00      0.97      0.99       150\n",
      "          7       0.99      0.98      0.99       450\n",
      "          8       0.99      0.99      0.99       450\n",
      "          9       0.98      1.00      0.99       480\n",
      "         10       0.99      0.99      0.99       660\n",
      "         11       0.98      0.96      0.97       420\n",
      "         12       1.00      0.97      0.98       690\n",
      "         13       0.99      1.00      1.00       720\n",
      "         14       1.00      1.00      1.00       270\n",
      "         15       0.94      1.00      0.97       210\n",
      "         16       1.00      0.98      0.99       150\n",
      "         17       1.00      0.99      1.00       360\n",
      "         18       0.99      0.93      0.96       390\n",
      "         19       0.91      1.00      0.95        60\n",
      "         20       0.84      0.99      0.91        90\n",
      "         21       0.93      0.87      0.90        90\n",
      "         22       0.96      0.98      0.97       120\n",
      "         23       0.99      0.98      0.98       150\n",
      "         24       0.90      1.00      0.95        90\n",
      "         25       0.93      0.96      0.94       480\n",
      "         26       0.92      0.83      0.87       180\n",
      "         27       0.82      0.52      0.63        60\n",
      "         28       0.97      0.97      0.97       150\n",
      "         29       0.99      0.98      0.98        90\n",
      "         30       0.96      0.82      0.88       150\n",
      "         31       0.95      1.00      0.97       270\n",
      "         32       0.94      1.00      0.97        60\n",
      "         33       1.00      0.99      1.00       210\n",
      "         34       0.98      0.99      0.99       120\n",
      "         35       0.99      1.00      1.00       390\n",
      "         36       0.98      0.97      0.98       120\n",
      "         37       0.98      0.97      0.97        60\n",
      "         38       0.99      0.99      0.99       690\n",
      "         39       0.97      1.00      0.98        90\n",
      "         40       0.99      0.97      0.98        90\n",
      "         41       0.98      0.87      0.92        60\n",
      "         42       1.00      1.00      1.00        90\n",
      "\n",
      "avg / total       0.98      0.98      0.98     12630\n",
      "\n"
     ]
    },
    {
     "data": {
      "image/png": "[encoded data removed]",
      "text/plain": [
       "<matplotlib.figure.Figure at 0x7fe9d0500240>"
      ]
     },
     "metadata": {},
     "output_type": "display_data"
    }
   ],
   "source": [
    "#look at confusion matrix and classification report\n",
    "from sklearn.metrics import confusion_matrix, classification_report\n",
    "with tf.Session() as sess:\n",
    "    saver.restore(sess, tf.train.latest_checkpoint('.'))\n",
    "    total_predictions = None\n",
    "    num_examples = len(X_test)\n",
    "    sess = tf.get_default_session()\n",
    "    #do it in batches so we don't run out of memory \n",
    "    for offset in range(0, num_examples, 6000):\n",
    "        batch_x, batch_y = X_test[offset:offset+6000], y_test[offset:offset+6000]\n",
    "        predictions = sess.run(tf.argmax(logits, 1),feed_dict={x: batch_x, y: batch_y, keep_prob: 1.0, keep_prob2: 1.0, rate: 0.001})\n",
    "        #print(predictions.shape)\n",
    "        if(total_predictions is None):\n",
    "            total_predictions = predictions\n",
    "        else:\n",
    "            total_predictions = np.hstack([total_predictions,predictions])\n",
    "            \n",
    "    mat = confusion_matrix(y_test,total_predictions)\n",
    "    plt.imshow(mat, interpolation='nearest')\n",
    "    report = classification_report(y_test,total_predictions)\n",
    "    print(report)"
   ]
  },
  {
   "cell_type": "code",
   "execution_count": null,
   "metadata": {
    "collapsed": true
   },
   "outputs": [],
   "source": [
    "\"\"\"\n",
    "I had really bad precision and recall for the pedestrians class. Also from the confusion matrix you can see most \n",
    "of the misclassifications came from the classes with fewer examples. This shows that data augmentation and a larger\n",
    "dataset would have been beneficial. \n",
    "\"\"\""
   ]
  },
  {
   "cell_type": "markdown",
   "metadata": {},
   "source": [
    "### Question 4\n",
    "\n",
    "_How did you train your model? (Type of optimizer, batch size, epochs, hyperparameters, etc.)_\n"
   ]
  },
  {
   "cell_type": "markdown",
   "metadata": {},
   "source": [
    "**Answer:**"
   ]
  },
  {
   "cell_type": "code",
   "execution_count": null,
   "metadata": {
    "collapsed": true
   },
   "outputs": [],
   "source": [
    "\"\"\"\n",
    "I used the Adam Optimizer that was used in the LeNet lab as well as the batch size of 128. For learning rate I \n",
    "used 0.001 and ran 30 epochs. I attemped decreasing my learning rate over time but after reading about the Adam\n",
    "optimizer I found that it was not necessary in this case as the optimizer computes a adaptive learning rate.\n",
    "\"\"\""
   ]
  },
  {
   "cell_type": "markdown",
   "metadata": {},
   "source": [
    "### Question 5\n",
    "\n",
    "\n",
    "_What approach did you take in coming up with a solution to this problem? It may have been a process of trial and error, in which case, outline the steps you took to get to the final solution and why you chose those steps. Perhaps your solution involved an already well known implementation or architecture. In this case, discuss why you think this is suitable for the current problem._"
   ]
  },
  {
   "cell_type": "markdown",
   "metadata": {},
   "source": [
    "**Answer:**"
   ]
  },
  {
   "cell_type": "code",
   "execution_count": null,
   "metadata": {
    "collapsed": true
   },
   "outputs": [],
   "source": [
    "\"\"\"\n",
    "My process was mostly trial and error, I used the LeNet Lab as a starting point for this project which had about\n",
    "~95% accuracy on the validation set to start. Initally I tried adding regularization to LeNet architecture \n",
    "using dropout and L2 regularization, but did not get noticeable improvements. At this point I decided to try \n",
    "some different architectures, and looked into how to replace max pooling layers, and found [1], and decided to \n",
    "adjust my model based on some its findings: I replaced the 5X5 convolutions with 3x3 and replaced the maxpooling\n",
    "layers with 3X3 convolutions with a stride of 2. Also following [1] dropout was used after downsampling layers \n",
    "to prevent overfitting. I also increased the depth of the convolutional layers. Springenberg et al. also discuss \n",
    "adding dropout of 0.2 to the input layer, I experimented with this and did not have good results, so did not use it. \n",
    "Because I increased the depth of the convolutional layers and as a result the fully connected layers I also added \n",
    "L2 regulartization to prevent overfitting.\n",
    "\n",
    "[1] Jost Tobias Springenberg, Alexey Dosovitskiy, Thomas Brox, Martin A. Riedmiller:\n",
    "Striving for Simplicity: The All Convolutional Net. CoRR abs/1412.6806 (2014)\n",
    "\"\"\""
   ]
  },
  {
   "cell_type": "markdown",
   "metadata": {},
   "source": [
    "---\n",
    "\n",
    "## Step 3: Test a Model on New Images\n",
    "\n",
    "Take several pictures of traffic signs that you find on the web or around you (at least five), and run them through your classifier on your computer to produce example results. The classifier might not recognize some local signs but it could prove interesting nonetheless.\n",
    "\n",
    "You may find `signnames.csv` useful as it contains mappings from the class id (integer) to the actual sign name."
   ]
  },
  {
   "cell_type": "markdown",
   "metadata": {},
   "source": [
    "### Implementation\n",
    "\n",
    "Use the code cell (or multiple code cells, if necessary) to implement the first step of your project. Once you have completed your implementation and are satisfied with the results, be sure to thoroughly answer the questions that follow."
   ]
  },
  {
   "cell_type": "code",
   "execution_count": 101,
   "metadata": {
    "collapsed": false,
    "scrolled": true
   },
   "outputs": [
    {
     "data": {
      "image/png": "[encoded data removed]",
      "text/plain": [
       "<matplotlib.figure.Figure at 0x7fe9cf7c3438>"
      ]
     },
     "metadata": {},
     "output_type": "display_data"
    },
    {
     "data": {
      "image/png": "[encoded data removed]",
      "text/plain": [
       "<matplotlib.figure.Figure at 0x7fe9cac57278>"
      ]
     },
     "metadata": {},
     "output_type": "display_data"
    },
    {
     "data": {
      "image/png": "[encoded data removed]",
      "text/plain": [
       "<matplotlib.figure.Figure at 0x7fe9cac76278>"
      ]
     },
     "metadata": {},
     "output_type": "display_data"
    },
    {
     "data": {
      "image/png": "[encoded data removed]",
      "text/plain": [
       "<matplotlib.figure.Figure at 0x7fe9ca7fab00>"
      ]
     },
     "metadata": {},
     "output_type": "display_data"
    },
    {
     "data": {
      "image/png": "[encoded data removed]",
      "text/plain": [
       "<matplotlib.figure.Figure at 0x7fe9c83dfa20>"
      ]
     },
     "metadata": {},
     "output_type": "display_data"
    }
   ],
   "source": [
    "### Load the images and plot them here.\n",
    "### Feel free to use as many code cells as needed.\n",
    "\n",
    "import glob, os\n",
    "from matplotlib.image import imread\n",
    "from skimage import transform\n",
    "imgs = []\n",
    "for file in os.listdir(\"test_signs\"):\n",
    "    if file.endswith(\".jpg\"):\n",
    "        img = imread(\"test_signs/\" + file)\n",
    "        img = minmax_scale.transform(img.reshape(1,-1)).reshape(32,32,3)\n",
    "        imgs.append(img)\n",
    "        plt.figure(figsize=(0.5,0.5))\n",
    "        plt.imshow(img)\n",
    "\n",
    "images = np.array(imgs)"
   ]
  },
  {
   "cell_type": "markdown",
   "metadata": {},
   "source": [
    "### Question 6\n",
    "\n",
    "_Choose five candidate images of traffic signs and provide them in the report. Are there any particular qualities of the image(s) that might make classification difficult? It could be helpful to plot the images in the notebook._\n",
    "\n"
   ]
  },
  {
   "cell_type": "markdown",
   "metadata": {},
   "source": [
    "**Answer:**"
   ]
  },
  {
   "cell_type": "code",
   "execution_count": null,
   "metadata": {
    "collapsed": true
   },
   "outputs": [],
   "source": [
    "\"\"\"\n",
    "The stop sign, yield sign and left turn sign I took with my cellphone. The stay right and 60 sign I found\n",
    "on the internet. Some of the images above are quite dark, especially the yield sign. The version of turn left sign \n",
    "is not in the dataset provided, but I was interested to see if it could be classified even though the turn left sign\n",
    "from the dataset has a different shaped arrow and has a different color for its background. The stay right sign \n",
    "was a little beat up in this picture and so I was wondering if that would affect the classification.\n",
    "\"\"\""
   ]
  },
  {
   "cell_type": "code",
   "execution_count": 98,
   "metadata": {
    "collapsed": false
   },
   "outputs": [
    {
     "name": "stdout",
     "output_type": "stream",
     "text": [
      "Predicted Classes:\n",
      "[14 12 38  3 14]\n"
     ]
    }
   ],
   "source": [
    "### Run the predictions here.\n",
    "### Feel free to use as many code cells as needed.\n",
    "with tf.Session() as sess:\n",
    "    saver.restore(sess, tf.train.latest_checkpoint('.'))\n",
    "    sess = tf.get_default_session()\n",
    "    classification = sess.run(tf.nn.softmax(logits), feed_dict={x: images, y: 0, keep_prob: 1.0, keep_prob2: 1.0, rate: 0.001})\n",
    "    print(\"Predicted Classes:\")\n",
    "    print(np.argmax(classification,axis=1))\n"
   ]
  },
  {
   "cell_type": "markdown",
   "metadata": {},
   "source": [
    "### Question 7\n",
    "\n",
    "_Is your model able to perform equally well on captured pictures when compared to testing on the dataset? The simplest way to do this check the accuracy of the predictions. For example, if the model predicted 1 out of 5 signs correctly, it's 20% accurate._\n",
    "\n",
    "_**NOTE:** You could check the accuracy manually by using `signnames.csv` (same directory). This file has a mapping from the class id (0-42) to the corresponding sign name. So, you could take the class id the model outputs, lookup the name in `signnames.csv` and see if it matches the sign from the image._\n"
   ]
  },
  {
   "cell_type": "markdown",
   "metadata": {},
   "source": [
    "**Answer:**"
   ]
  },
  {
   "cell_type": "code",
   "execution_count": null,
   "metadata": {
    "collapsed": true
   },
   "outputs": [],
   "source": [
    "\"\"\"\n",
    "The model classified 3/5 of the images correctly. It classified the turn left sign as a priority road, given that\n",
    "this version of the sign was not in the dataset, I am not suprised at the misclassification; however, it would be \n",
    "nice if the model was able to generalize the turn left image better. The yield sign was classified as a stop sign. \n",
    "\"\"\""
   ]
  },
  {
   "cell_type": "code",
   "execution_count": 99,
   "metadata": {
    "collapsed": false
   },
   "outputs": [
    {
     "data": {
      "image/png": "[encoded data removed]",
      "text/plain": [
       "<matplotlib.figure.Figure at 0x7fe9ce9959e8>"
      ]
     },
     "metadata": {},
     "output_type": "display_data"
    },
    {
     "data": {
      "image/png": "[encoded data removed]",
      "text/plain": [
       "<matplotlib.figure.Figure at 0x7fe9cadf2898>"
      ]
     },
     "metadata": {},
     "output_type": "display_data"
    },
    {
     "data": {
      "image/png": "[encoded data removed]",
      "text/plain": [
       "<matplotlib.figure.Figure at 0x7fe9ceda4a20>"
      ]
     },
     "metadata": {},
     "output_type": "display_data"
    },
    {
     "data": {
      "image/png": "[encoded data removed]",
      "text/plain": [
       "<matplotlib.figure.Figure at 0x7fe9cade9ba8>"
      ]
     },
     "metadata": {},
     "output_type": "display_data"
    },
    {
     "data": {
      "image/png": "[encoded data removed]",
      "text/plain": [
       "<matplotlib.figure.Figure at 0x7fe9caddd6d8>"
      ]
     },
     "metadata": {},
     "output_type": "display_data"
    }
   ],
   "source": [
    "### Visualize the softmax probabilities here.\n",
    "### Feel free to use as many code cells as needed.\n",
    "%matplotlib inline\n",
    "for i in classification:\n",
    "    plt.figure(figsize=(2,2))\n",
    "    plt.hist(i)\n"
   ]
  },
  {
   "cell_type": "markdown",
   "metadata": {},
   "source": [
    "### Question 8\n",
    "\n",
    "*Use the model's softmax probabilities to visualize the **certainty** of its predictions, [`tf.nn.top_k`](https://www.tensorflow.org/versions/r0.12/api_docs/python/nn.html#top_k) could prove helpful here. Which predictions is the model certain of? Uncertain? If the model was incorrect in its initial prediction, does the correct prediction appear in the top k? (k should be 5 at most)*\n",
    "\n",
    "`tf.nn.top_k` will return the values and indices (class ids) of the top k predictions. So if k=3, for each sign, it'll return the 3 largest probabilities (out of a possible 43) and the correspoding class ids.\n",
    "\n",
    "Take this numpy array as an example:\n",
    "\n",
    "```\n",
    "# (5, 6) array\n",
    "a = np.array([[ 0.24879643,  0.07032244,  0.12641572,  0.34763842,  0.07893497,\n",
    "         0.12789202],\n",
    "       [ 0.28086119,  0.27569815,  0.08594638,  0.0178669 ,  0.18063401,\n",
    "         0.15899337],\n",
    "       [ 0.26076848,  0.23664738,  0.08020603,  0.07001922,  0.1134371 ,\n",
    "         0.23892179],\n",
    "       [ 0.11943333,  0.29198961,  0.02605103,  0.26234032,  0.1351348 ,\n",
    "         0.16505091],\n",
    "       [ 0.09561176,  0.34396535,  0.0643941 ,  0.16240774,  0.24206137,\n",
    "         0.09155967]])\n",
    "```\n",
    "\n",
    "Running it through `sess.run(tf.nn.top_k(tf.constant(a), k=3))` produces:\n",
    "\n",
    "```\n",
    "TopKV2(values=array([[ 0.34763842,  0.24879643,  0.12789202],\n",
    "       [ 0.28086119,  0.27569815,  0.18063401],\n",
    "       [ 0.26076848,  0.23892179,  0.23664738],\n",
    "       [ 0.29198961,  0.26234032,  0.16505091],\n",
    "       [ 0.34396535,  0.24206137,  0.16240774]]), indices=array([[3, 0, 5],\n",
    "       [0, 1, 4],\n",
    "       [0, 5, 1],\n",
    "       [1, 3, 5],\n",
    "       [1, 4, 3]], dtype=int32))\n",
    "```\n",
    "\n",
    "Looking just at the first row we get `[ 0.34763842,  0.24879643,  0.12789202]`, you can confirm these are the 3 largest probabilities in `a`. You'll also notice `[3, 0, 5]` are the corresponding indices."
   ]
  },
  {
   "cell_type": "code",
   "execution_count": 100,
   "metadata": {
    "collapsed": false,
    "scrolled": true
   },
   "outputs": [
    {
     "name": "stdout",
     "output_type": "stream",
     "text": [
      "[[  9.99998689e-01   7.64182801e-07   5.10451684e-07   5.21908028e-08\n",
      "    3.57916541e-08]\n",
      " [  1.33082449e-01   1.06724769e-01   9.87539440e-02   7.48889521e-02\n",
      "    5.70046455e-02]\n",
      " [  1.00000000e+00   1.61238752e-12   2.00612622e-14   3.54622572e-16\n",
      "    1.84649331e-16]\n",
      " [  9.96577799e-01   3.40619963e-03   1.35792206e-05   6.24912843e-07\n",
      "    5.58736701e-07]\n",
      " [  9.91823137e-01   5.90558257e-03   1.75852957e-03   2.17427398e-04\n",
      "    1.76239177e-04]]\n",
      "[[14 15  1 25 17]\n",
      " [12 13 35  7 36]\n",
      " [38 34 36 39 40]\n",
      " [ 3  2  5  9 13]\n",
      " [14 13 17  1 15]]\n"
     ]
    },
    {
     "data": {
      "image/png": "[encoded data removed]",
      "text/plain": [
       "<matplotlib.figure.Figure at 0x7fe9ce873f60>"
      ]
     },
     "metadata": {},
     "output_type": "display_data"
    },
    {
     "data": {
      "image/png": "[encoded data removed]",
      "text/plain": [
       "<matplotlib.figure.Figure at 0x7fe9cf78fda0>"
      ]
     },
     "metadata": {},
     "output_type": "display_data"
    },
    {
     "data": {
      "image/png": "[encoded data removed]",
      "text/plain": [
       "<matplotlib.figure.Figure at 0x7fe9cadddc18>"
      ]
     },
     "metadata": {},
     "output_type": "display_data"
    },
    {
     "data": {
      "image/png": "[encoded data removed]",
      "text/plain": [
       "<matplotlib.figure.Figure at 0x7fe9cf792358>"
      ]
     },
     "metadata": {},
     "output_type": "display_data"
    },
    {
     "data": {
      "image/png": "[encoded data removed]",
      "text/plain": [
       "<matplotlib.figure.Figure at 0x7fe9ca49fac8>"
      ]
     },
     "metadata": {},
     "output_type": "display_data"
    }
   ],
   "source": [
    "with tf.Session() as sess:\n",
    "    saver.restore(sess, tf.train.latest_checkpoint('.'))\n",
    "    sess = tf.get_default_session()\n",
    "    top_k = sess.run(tf.nn.top_k(tf.nn.softmax(logits), k=5), feed_dict={x: images, y: 0, keep_prob: 1.0, keep_prob2: 1.0, rate: 0.001})\n",
    "    print(top_k.values)\n",
    "    print(top_k.indices)\n",
    "    for j,i in enumerate(top_k.values):\n",
    "        plt.figure(figsize=(2,2))\n",
    "        plt.hist(i)"
   ]
  },
  {
   "cell_type": "markdown",
   "metadata": {},
   "source": [
    "**Answer:**"
   ]
  },
  {
   "cell_type": "code",
   "execution_count": null,
   "metadata": {
    "collapsed": true
   },
   "outputs": [],
   "source": [
    "\"\"\"\n",
    "Both the yield sign and the turn left sign that were misclassified, had lower certainty for their predictions.\n",
    "For the turn left sign the model had no where near the correct label in its top five and its largest softmax value\n",
    "was ~0.14, so there was very little confidence. Whereas for the yield sign the model had the correct label for its\n",
    "second highest softmax value, although it was very certain that the image was a stop sign.\n",
    "\"\"\""
   ]
  },
  {
   "cell_type": "markdown",
   "metadata": {},
   "source": [
    "> **Note**: Once you have completed all of the code implementations and successfully answered each question above, you may finalize your work by exporting the iPython Notebook as an HTML document. You can do this by using the menu above and navigating to  \\n\",\n",
    "    \"**File -> Download as -> HTML (.html)**. Include the finished document along with this notebook as your submission."
   ]
  },
  {
   "cell_type": "code",
   "execution_count": null,
   "metadata": {
    "collapsed": true
   },
   "outputs": [],
   "source": []
  }
 ],
 "metadata": {
  "anaconda-cloud": {},
  "kernelspec": {
   "display_name": "Python 3",
   "language": "python",
   "name": "python3"
  },
  "language_info": {
   "codemirror_mode": {
    "name": "ipython",
    "version": 3
   },
   "file_extension": ".py",
   "mimetype": "text/x-python",
   "name": "python",
   "nbconvert_exporter": "python",
   "pygments_lexer": "ipython3",
   "version": "3.5.2"
  },
  "widgets": {
   "state": {},
   "version": "1.1.2"
  }
 },
 "nbformat": 4,
 "nbformat_minor": 1
}
