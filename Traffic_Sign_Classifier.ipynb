{
 "cells": [
  {
   "cell_type": "markdown",
   "metadata": {},
   "source": [
    "# Self-Driving Car Engineer Nanodegree\n",
    "\n",
    "## Deep Learning\n",
    "\n",
    "## Project: Build a Traffic Sign Recognition Classifier\n",
    "\n",
    "In this notebook, a template is provided for you to implement your functionality in stages which is required to successfully complete this project. If additional code is required that cannot be included in the notebook, be sure that the Python code is successfully imported and included in your submission, if necessary. Sections that begin with **'Implementation'** in the header indicate where you should begin your implementation for your project. Note that some sections of implementation are optional, and will be marked with **'Optional'** in the header.\n",
    "\n",
    "In addition to implementing code, there will be questions that you must answer which relate to the project and your implementation. Each section where you will answer a question is preceded by a **'Question'** header. Carefully read each question and provide thorough answers in the following text boxes that begin with **'Answer:'**. Your project submission will be evaluated based on your answers to each of the questions and the implementation you provide.\n",
    "\n",
    ">**Note:** Code and Markdown cells can be executed using the **Shift + Enter** keyboard shortcut. In addition, Markdown cells can be edited by typically double-clicking the cell to enter edit mode."
   ]
  },
  {
   "cell_type": "markdown",
   "metadata": {},
   "source": [
    "---\n",
    "## Step 0: Load The Data"
   ]
  },
  {
   "cell_type": "code",
   "execution_count": 11,
   "metadata": {
    "collapsed": false
   },
   "outputs": [
    {
     "name": "stdout",
     "output_type": "stream",
     "text": [
      "Data has apparently already been downloaded and unpacked.\n",
      "Loading data: data/CIFAR-10/cifar-10-batches-py/data_batch_1\n",
      "Loading data: data/CIFAR-10/cifar-10-batches-py/data_batch_2\n",
      "Loading data: data/CIFAR-10/cifar-10-batches-py/data_batch_3\n",
      "Loading data: data/CIFAR-10/cifar-10-batches-py/data_batch_4\n",
      "Loading data: data/CIFAR-10/cifar-10-batches-py/data_batch_5\n",
      "Loading data: data/CIFAR-10/cifar-10-batches-py/test_batch\n",
      "6\n",
      "Training size x 50000\n",
      "Training size y 50000\n",
      "Test size x 10000\n",
      "Test size y 10000\n",
      "Image shape (32, 32, 3)\n",
      "Classes 10\n"
     ]
    }
   ],
   "source": [
    "# Load pickled data\n",
    "import pickle\n",
    "from sklearn.model_selection import train_test_split\n",
    "import numpy as np\n",
    "import cifar10\n",
    "\n",
    "\n",
    "\n",
    "cifar10.maybe_download_and_extract()\n",
    "\n",
    "\n",
    "# TODO: Fill this in based on where you saved the training and testing data\n",
    "\n",
    "training_file = '../train.p'\n",
    "testing_file = '../test.p'\n",
    "\n",
    "with open(training_file, mode='rb') as f:\n",
    "    train = pickle.load(f)\n",
    "with open(testing_file, mode='rb') as f:\n",
    "    test = pickle.load(f)\n",
    "    \n",
    "\n",
    "X_train_raw, y_train_raw,tmp_y_train = cifar10.load_training_data()\n",
    "X_test_raw, y_test, tmp_y_test = cifar10.load_test_data()\n",
    "\n",
    "print(y_train_raw[0])\n",
    "#X_train_raw, y_train_raw = train['features'], train['labels']\n",
    "#X_test_raw, y_test = test['features'], test['labels']\n",
    "\n",
    "print(\"Training size x {}\".format(len(X_train_raw)))\n",
    "print(\"Training size y {}\".format(len(y_train_raw)))\n",
    "print(\"Test size x {}\".format(len(X_test_raw)))\n",
    "print(\"Test size y {}\".format(len(y_test)))\n",
    "\n",
    "print(\"Image shape {}\".format(X_train_raw[0].shape))\n",
    "\n",
    "print(\"Classes {}\".format(len(np.unique(cls_test))))\n"
   ]
  },
  {
   "cell_type": "markdown",
   "metadata": {},
   "source": [
    "---\n",
    "\n",
    "## Step 1: Dataset Summary & Exploration\n",
    "\n",
    "The pickled data is a dictionary with 4 key/value pairs:\n",
    "\n",
    "- `'features'` is a 4D array containing raw pixel data of the traffic sign images, (num examples, width, height, channels).\n",
    "- `'labels'` is a 2D array containing the label/class id of the traffic sign. The file `signnames.csv` contains id -> name mappings for each id.\n",
    "- `'sizes'` is a list containing tuples, (width, height) representing the the original width and height the image.\n",
    "- `'coords'` is a list containing tuples, (x1, y1, x2, y2) representing coordinates of a bounding box around the sign in the image. **THESE COORDINATES ASSUME THE ORIGINAL IMAGE. THE PICKLED DATA CONTAINS RESIZED VERSIONS (32 by 32) OF THESE IMAGES**\n",
    "\n",
    "Complete the basic data summary below."
   ]
  },
  {
   "cell_type": "code",
   "execution_count": 12,
   "metadata": {
    "collapsed": false
   },
   "outputs": [
    {
     "name": "stdout",
     "output_type": "stream",
     "text": [
      "Number of training examples = 50000\n",
      "Number of testing examples = 10000\n",
      "Image data shape = (32, 32, 3)\n",
      "Number of classes = 10\n"
     ]
    }
   ],
   "source": [
    "### Replace each question mark with the appropriate value.\n",
    "\n",
    "# TODO: Number of training examples\n",
    "n_train = X_train_raw.shape[0]\n",
    "\n",
    "# TODO: Number of testing examples.\n",
    "n_test = X_test_raw.shape[0]\n",
    "\n",
    "# TODO: What's the shape of an traffic sign image?\n",
    "image_shape = X_train_raw[0].shape\n",
    "\n",
    "# TODO: How many unique classes/labels there are in the dataset.\n",
    "n_classes = len(np.unique(y_test))\n",
    "\n",
    "print(\"Number of training examples =\", n_train)\n",
    "print(\"Number of testing examples =\", n_test)\n",
    "print(\"Image data shape =\", image_shape)\n",
    "print(\"Number of classes =\", n_classes)\n",
    "\n"
   ]
  },
  {
   "cell_type": "markdown",
   "metadata": {},
   "source": [
    "Visualize the German Traffic Signs Dataset using the pickled file(s). This is open ended, suggestions include: plotting traffic sign images, plotting the count of each sign, etc.\n",
    "\n",
    "The [Matplotlib](http://matplotlib.org/) [examples](http://matplotlib.org/examples/index.html) and [gallery](http://matplotlib.org/gallery.html) pages are a great resource for doing visualizations in Python.\n",
    "\n",
    "**NOTE:** It's recommended you start with something simple first. If you wish to do more, come back to it after you've completed the rest of the sections."
   ]
  },
  {
   "cell_type": "code",
   "execution_count": 18,
   "metadata": {
    "collapsed": false
   },
   "outputs": [
    {
     "name": "stdout",
     "output_type": "stream",
     "text": [
      "3\n"
     ]
    },
    {
     "data": {
      "image/png": "[encoded data removed]",
      "text/plain": [
       "<matplotlib.figure.Figure at 0x7feaa43f1ef0>"
      ]
     },
     "metadata": {},
     "output_type": "display_data"
    },
    {
     "data": {
      "image/png": "[encoded data removed]",
      "text/plain": [
       "<matplotlib.figure.Figure at 0x7feaa437ec18>"
      ]
     },
     "metadata": {},
     "output_type": "display_data"
    }
   ],
   "source": [
    "### Data exploration visualization goes here.\n",
    "### Feel free to use as many code cells as needed.\n",
    "import random\n",
    "import numpy as np\n",
    "import matplotlib.pyplot as plt\n",
    "# Visualizations will be shown in the notebook.\n",
    "%matplotlib inline\n",
    "\n",
    "index = random.randint(0, len(X_train_raw))\n",
    "image = X_train_raw[index]\n",
    "plt.hist(y_train_raw, bins=range(43))\n",
    "\n",
    "plt.figure(figsize=(1,1))\n",
    "plt.imshow(image)\n",
    "print(y_train_raw[index])"
   ]
  },
  {
   "cell_type": "markdown",
   "metadata": {},
   "source": [
    "----\n",
    "\n",
    "## Step 2: Design and Test a Model Architecture\n",
    "\n",
    "Design and implement a deep learning model that learns to recognize traffic signs. Train and test your model on the [German Traffic Sign Dataset](http://benchmark.ini.rub.de/?section=gtsrb&subsection=dataset).\n",
    "\n",
    "There are various aspects to consider when thinking about this problem:\n",
    "\n",
    "- Neural network architecture\n",
    "- Play around preprocessing techniques (normalization, rgb to grayscale, etc)\n",
    "- Number of examples per label (some have more than others).\n",
    "- Generate fake data.\n",
    "\n",
    "Here is an example of a [published baseline model on this problem](http://yann.lecun.com/exdb/publis/pdf/sermanet-ijcnn-11.pdf). It's not required to be familiar with the approach used in the paper but, it's good practice to try to read papers like these.\n",
    "\n",
    "**NOTE:** The LeNet-5 implementation shown in the [classroom](https://classroom.udacity.com/nanodegrees/nd013/parts/fbf77062-5703-404e-b60c-95b78b2f3f9e/modules/6df7ae49-c61c-4bb2-a23e-6527e69209ec/lessons/601ae704-1035-4287-8b11-e2c2716217ad/concepts/d4aca031-508f-4e0b-b493-e7b706120f81) at the end of the CNN lesson is a solid starting point. You'll have to change the number of classes and possibly the preprocessing, but aside from that it's plug and play!"
   ]
  },
  {
   "cell_type": "markdown",
   "metadata": {},
   "source": [
    "### Implementation\n",
    "\n",
    "Use the code cell (or multiple code cells, if necessary) to implement the first step of your project. Once you have completed your implementation and are satisfied with the results, be sure to thoroughly answer the questions that follow."
   ]
  },
  {
   "cell_type": "code",
   "execution_count": 25,
   "metadata": {
    "collapsed": false
   },
   "outputs": [
    {
     "name": "stdout",
     "output_type": "stream",
     "text": [
      "1\n"
     ]
    },
    {
     "data": {
      "image/png": "[encoded data removed]",
      "text/plain": [
       "<matplotlib.figure.Figure at 0x7fe96d0c4550>"
      ]
     },
     "metadata": {},
     "output_type": "display_data"
    }
   ],
   "source": [
    "import tensorflow as tf\n",
    "from sklearn.utils import shuffle\n",
    "from sklearn import preprocessing\n",
    "from sklearn.preprocessing import FunctionTransformer\n",
    "%matplotlib inline\n",
    "### Preprocess the data here.\n",
    "\n",
    "X_train_tmp = X_train_raw.reshape(X_train_raw.shape[0],-1)\n",
    "X_test_tmp = X_test_raw.reshape(X_test_raw.shape[0],-1)\n",
    "\n",
    "minmax_scale = preprocessing.MinMaxScaler().fit(X_train_tmp)\n",
    "X_train_norm = minmax_scale.transform(X_train_tmp).reshape(X_train_raw.shape)\n",
    "X_test = minmax_scale.transform(X_test_tmp).reshape(X_test_raw.shape)\n",
    "\n",
    "index = random.randint(0, len(X_train_norm))\n",
    "image = X_train_norm[index]\n",
    "\n",
    "plt.figure(figsize=(1,1))\n",
    "plt.imshow(image)\n",
    "print(y_train_raw[index])\n",
    "\n",
    "#X_train, y_train = shuffle(X_train_norm, y_train_raw)\n"
   ]
  },
  {
   "cell_type": "markdown",
   "metadata": {},
   "source": [
    "### Question 1 \n",
    "\n",
    "_Describe how you preprocessed the data. Why did you choose that technique?_"
   ]
  },
  {
   "cell_type": "code",
   "execution_count": null,
   "metadata": {
    "collapsed": true
   },
   "outputs": [],
   "source": [
    "\"\"\"\n",
    "I used scikit-learn's MinMax normalization, this reduces the input to within [0,1] and gives the data equal variance.\n",
    "This standardization helps prevent the optimizer from getting stuck in local minima while training, as all the \n",
    "features are normalized to similar range so all the weights should train at same speed.\n",
    "\"\"\""
   ]
  },
  {
   "cell_type": "markdown",
   "metadata": {},
   "source": [
    "**Answer:**\n",
    "\n"
   ]
  },
  {
   "cell_type": "code",
   "execution_count": 26,
   "metadata": {
    "collapsed": true
   },
   "outputs": [],
   "source": [
    "### Generate data additional data (OPTIONAL!)\n",
    "### and split the data into training/validation/testing sets here.\n",
    "### Feel free to use as many code cells as needed.\n",
    "\n",
    "X_train, X_validation, y_train, y_validation= train_test_split(X_train_norm, y_train_raw,test_size=0.2,random_state=15)\n"
   ]
  },
  {
   "cell_type": "markdown",
   "metadata": {},
   "source": [
    "### Question 2\n",
    "\n",
    "_Describe how you set up the training, validation and testing data for your model. **Optional**: If you generated additional data, how did you generate the data? Why did you generate the data? What are the differences in the new dataset (with generated data) from the original dataset?_"
   ]
  },
  {
   "cell_type": "code",
   "execution_count": null,
   "metadata": {
    "collapsed": true
   },
   "outputs": [],
   "source": [
    "\"\"\"\n",
    "I created a validation set using the train_test_split function from scikit-learn. I use 20% of the training set\n",
    "as the validation set. I experimented with generating data using random rotations and scales, but ended up having\n",
    "issues with image format so did not include it in my submission.\n",
    "\"\"\""
   ]
  },
  {
   "cell_type": "markdown",
   "metadata": {},
   "source": [
    "**Answer:**"
   ]
  },
  {
   "cell_type": "code",
   "execution_count": 34,
   "metadata": {
    "collapsed": true
   },
   "outputs": [],
   "source": [
    "from tensorflow.contrib.layers import flatten\n",
    "import tensorflow as tf\n",
    "\n",
    "mu = 0\n",
    "sigma = 0.1\n",
    "\n",
    "weights= [tf.Variable(tf.truncated_normal([3, 3, 3, 32],mean = mu, stddev = sigma)),\n",
    "tf.Variable(tf.truncated_normal([3, 3, 32, 32],mean = mu, stddev = sigma)),\n",
    "tf.Variable(tf.truncated_normal([3, 3, 32, 96],mean = mu, stddev = sigma)),\n",
    "tf.Variable(tf.truncated_normal([3, 3, 96, 96],mean = mu, stddev = sigma)),\n",
    "tf.Variable(tf.truncated_normal([2400, 400],mean = mu, stddev = sigma)),\n",
    "tf.Variable(tf.truncated_normal([400, 84],mean = mu, stddev = sigma)),\n",
    "tf.Variable(tf.truncated_normal([84, 10],mean = mu, stddev = sigma))]\n",
    "\n",
    "bias =[tf.Variable(tf.zeros(32)),\n",
    "tf.Variable(tf.zeros(32)),\n",
    "tf.Variable(tf.zeros(96)),\n",
    "tf.Variable(tf.zeros(96)),\n",
    "tf.Variable(tf.zeros(400)),\n",
    "tf.Variable(tf.zeros(84)),\n",
    "tf.Variable(tf.zeros(10))]\n",
    "\n",
    "def conv2d(x, W, b, strides=1): \n",
    "    x = tf.nn.conv2d(x, W, strides=[1, strides, strides, 1], padding='VALID') \n",
    "    x = tf.nn.bias_add(x, b) \n",
    "    return tf.nn.relu(x)\n",
    "\n",
    "def LeNet(x, weights, bias):    \n",
    "    x = tf.nn.dropout(x, keep_prob2)\n",
    "    \n",
    "    conv_net = conv2d(x,weights[0],bias[0],1)\n",
    "    \n",
    "    #downsample\n",
    "    conv_net = conv2d(conv_net,weights[1],bias[1],2)    \n",
    "    conv_net = tf.nn.dropout(conv_net, keep_prob)\n",
    "    \n",
    "    conv_net = conv2d(conv_net,weights[2],bias[2],1)\n",
    "    \n",
    "    #downsample\n",
    "    conv_net = conv2d(conv_net,weights[3],bias[3],2)\n",
    "    conv_net = tf.nn.dropout(conv_net, keep_prob)\n",
    "    \n",
    "    #fully connected layer\n",
    "    fc1 = tf.reshape( conv_net,[-1, 2400]) \n",
    "    fc1 = tf.add(tf.matmul(fc1, weights[4]), bias[4]) \n",
    "    fc1 = tf.nn.relu(fc1) \n",
    "    fc1 = tf.nn.dropout(fc1, keep_prob)\n",
    "\n",
    "    #fully connected layer\n",
    "    fc2 = tf.add(tf.matmul(fc1, weights[5]), bias[5]) \n",
    "    fc2 = tf.nn.relu(fc2) \n",
    "    fc2 = tf.nn.dropout(fc2, keep_prob)\n",
    "    \n",
    "    logits = tf.add(tf.matmul(fc2, weights[6]), bias[6])\n",
    "    \n",
    "    return logits"
   ]
  },
  {
   "cell_type": "markdown",
   "metadata": {},
   "source": [
    "### Question 3\n",
    "\n",
    "_What does your final architecture look like? (Type of model, layers, sizes, connectivity, etc.)  For reference on how to build a deep neural network using TensorFlow, see [Deep Neural Network in TensorFlow\n",
    "](https://classroom.udacity.com/nanodegrees/nd013/parts/fbf77062-5703-404e-b60c-95b78b2f3f9e/modules/6df7ae49-c61c-4bb2-a23e-6527e69209ec/lessons/b516a270-8600-4f93-a0a3-20dfeabe5da6/concepts/83a3a2a2-a9bd-4b7b-95b0-eb924ab14432) from the classroom._\n"
   ]
  },
  {
   "cell_type": "markdown",
   "metadata": {},
   "source": [
    "**Answer:**"
   ]
  },
  {
   "cell_type": "code",
   "execution_count": null,
   "metadata": {
    "collapsed": true
   },
   "outputs": [],
   "source": [
    "\"\"\"\n",
    "My architecture is based off the LeNet lab, but I used convolutions for downsampling instead of max pooling\n",
    "layers. In addtion I used all 3X3 convolutions. These changes were inspired by [1] as I discuss in question 5. For\n",
    "regularization I used dropout and L2. For the depth of the convolutions I start out with 32 and increased it to 96\n",
    "in the next layer, I found these changes greatly improved the networks accuracy on the validation set. \n",
    "\n",
    "INPUT -> [CONV -> RELU -> POOL(Conv with stride of 2) -> Dropout]*2 -> FC -> RELU -> Dropout -> FC -> Dropout\n",
    "\n",
    "[1] Jost Tobias Springenberg, Alexey Dosovitskiy, Thomas Brox, Martin A. Riedmiller:\n",
    "Striving for Simplicity: The All Convolutional Net. CoRR abs/1412.6806 (2014)\n",
    "\"\"\""
   ]
  },
  {
   "cell_type": "code",
   "execution_count": 35,
   "metadata": {
    "collapsed": true
   },
   "outputs": [],
   "source": [
    "EPOCHS = 30\n",
    "BATCH_SIZE = 128\n",
    "\n",
    "x = tf.placeholder(tf.float32, (None, 32, 32, 3))\n",
    "y = tf.placeholder(tf.int32, (None))\n",
    "rate = tf.placeholder(tf.float32)\n",
    "\n",
    "keep_prob = tf.placeholder(tf.float32)\n",
    "keep_prob2 = tf.placeholder(tf.float32)\n",
    "one_hot_y = tf.one_hot(y, 10)"
   ]
  },
  {
   "cell_type": "code",
   "execution_count": 36,
   "metadata": {
    "collapsed": false
   },
   "outputs": [],
   "source": [
    "logits = LeNet(x, weights, bias)\n",
    "beta = 0.0005\n",
    "\n",
    "#cross entropy with L2 regularization\n",
    "cross_entropy = tf.nn.softmax_cross_entropy_with_logits(logits, one_hot_y) + \\\n",
    "                    beta*tf.nn.l2_loss(weights[0]) + \\\n",
    "                    beta*tf.nn.l2_loss(weights[1]) + \\\n",
    "                    beta*tf.nn.l2_loss(weights[2]) + \\\n",
    "                    beta*tf.nn.l2_loss(weights[3]) + \\\n",
    "                    beta*tf.nn.l2_loss(weights[4]) + \\\n",
    "                    beta*tf.nn.l2_loss(weights[5]) + \\\n",
    "                    beta*tf.nn.l2_loss(weights[6])\n",
    "\n",
    "\n",
    "loss_operation = tf.reduce_mean(cross_entropy)\n",
    "optimizer = tf.train.AdamOptimizer(learning_rate = rate)\n",
    "training_operation = optimizer.minimize(loss_operation)\n",
    "\n",
    "correct_prediction = tf.equal(tf.argmax(logits, 1), tf.argmax(one_hot_y, 1))\n",
    "accuracy_operation = tf.reduce_mean(tf.cast(correct_prediction, tf.float32))\n",
    "saver = tf.train.Saver()\n",
    "\n",
    "def evaluate(X_data, y_data):\n",
    "    num_examples = len(X_data)\n",
    "    total_accuracy = 0\n",
    "    sess = tf.get_default_session()\n",
    "    for offset in range(0, num_examples, BATCH_SIZE):\n",
    "        batch_x, batch_y = X_data[offset:offset+BATCH_SIZE], y_data[offset:offset+BATCH_SIZE]\n",
    "        accuracy = sess.run(accuracy_operation, feed_dict={x: batch_x, y: batch_y, keep_prob: 1.0, keep_prob2: 1.0, rate: 0.001})\n",
    "        total_accuracy += (accuracy * len(batch_x))\n",
    "    return total_accuracy / num_examples"
   ]
  },
  {
   "cell_type": "code",
   "execution_count": 37,
   "metadata": {
    "collapsed": false
   },
   "outputs": [
    {
     "name": "stdout",
     "output_type": "stream",
     "text": [
      "Training...\n",
      "\n",
      "EPOCH 1 ...\n",
      "Validation Accuracy = 0.264\n",
      "\n",
      "EPOCH 2 ...\n",
      "Validation Accuracy = 0.436\n",
      "\n",
      "EPOCH 3 ...\n",
      "Validation Accuracy = 0.458\n",
      "\n",
      "EPOCH 4 ...\n",
      "Validation Accuracy = 0.501\n",
      "\n",
      "EPOCH 5 ...\n",
      "Validation Accuracy = 0.555\n",
      "\n",
      "EPOCH 6 ...\n",
      "Validation Accuracy = 0.560\n",
      "\n",
      "EPOCH 7 ...\n",
      "Validation Accuracy = 0.599\n",
      "\n",
      "EPOCH 8 ...\n",
      "Validation Accuracy = 0.606\n",
      "\n",
      "EPOCH 9 ...\n",
      "Validation Accuracy = 0.628\n",
      "\n",
      "EPOCH 10 ...\n",
      "Validation Accuracy = 0.623\n",
      "\n",
      "EPOCH 11 ...\n",
      "Validation Accuracy = 0.660\n",
      "\n",
      "EPOCH 12 ...\n",
      "Validation Accuracy = 0.648\n",
      "\n",
      "EPOCH 13 ...\n",
      "Validation Accuracy = 0.664\n",
      "\n",
      "EPOCH 14 ...\n",
      "Validation Accuracy = 0.690\n",
      "\n",
      "EPOCH 15 ...\n",
      "Validation Accuracy = 0.675\n",
      "\n",
      "EPOCH 16 ...\n",
      "Validation Accuracy = 0.673\n",
      "\n",
      "EPOCH 17 ...\n",
      "Validation Accuracy = 0.693\n",
      "\n",
      "EPOCH 18 ...\n",
      "Validation Accuracy = 0.697\n",
      "\n",
      "EPOCH 19 ...\n",
      "Validation Accuracy = 0.697\n",
      "\n",
      "EPOCH 20 ...\n",
      "Validation Accuracy = 0.713\n",
      "\n",
      "EPOCH 21 ...\n",
      "Validation Accuracy = 0.713\n",
      "\n",
      "EPOCH 22 ...\n",
      "Validation Accuracy = 0.714\n",
      "\n",
      "EPOCH 23 ...\n",
      "Validation Accuracy = 0.724\n",
      "\n",
      "EPOCH 24 ...\n",
      "Validation Accuracy = 0.738\n",
      "\n",
      "EPOCH 25 ...\n",
      "Validation Accuracy = 0.739\n",
      "\n",
      "EPOCH 26 ...\n",
      "Validation Accuracy = 0.711\n",
      "\n",
      "EPOCH 27 ...\n",
      "Validation Accuracy = 0.730\n",
      "\n",
      "EPOCH 28 ...\n",
      "Validation Accuracy = 0.731\n",
      "\n",
      "EPOCH 29 ...\n",
      "Validation Accuracy = 0.730\n",
      "\n",
      "EPOCH 30 ...\n",
      "Validation Accuracy = 0.745\n",
      "\n",
      "Model saved\n"
     ]
    }
   ],
   "source": [
    "with tf.Session() as sess:\n",
    "    sess.run(tf.global_variables_initializer())\n",
    "    num_examples = len(X_train)\n",
    "     \n",
    "    #{x: batch_x, y: batch_y,keep_prob: 0.5}\n",
    "    print(\"Training...\")\n",
    "    print()\n",
    "    for i in range(EPOCHS):\n",
    "        l_rate = 0.001\n",
    "        X_train, y_train = shuffle(X_train, y_train)\n",
    "        for offset in range(0, num_examples, BATCH_SIZE):\n",
    "            end = offset + BATCH_SIZE\n",
    "            batch_x, batch_y = X_train[offset:end], y_train[offset:end]\n",
    "            sess.run(training_operation, feed_dict={x: batch_x, y: batch_y, keep_prob: 0.5, keep_prob2: 1.0, rate: l_rate})\n",
    "            \n",
    "        validation_accuracy = evaluate(X_validation, y_validation)\n",
    "        print(\"EPOCH {} ...\".format(i+1))\n",
    "        print(\"Validation Accuracy = {:.3f}\".format(validation_accuracy))\n",
    "        print()\n",
    "        \n",
    "    saver.save(sess, 'traffic-signs')\n",
    "    print(\"Model saved\")"
   ]
  },
  {
   "cell_type": "code",
   "execution_count": 38,
   "metadata": {
    "collapsed": false
   },
   "outputs": [
    {
     "name": "stdout",
     "output_type": "stream",
     "text": [
      "Test Accuracy = 0.742\n"
     ]
    }
   ],
   "source": [
    "#Evaluate Model on test set\n",
    "with tf.Session() as sess:\n",
    "    saver.restore(sess, tf.train.latest_checkpoint('.'))\n",
    "\n",
    "    test_accuracy = evaluate(X_test, y_test)\n",
    "    \n",
    "    print(\"Test Accuracy = {:.3f}\".format(test_accuracy))"
   ]
  },
  {
   "cell_type": "code",
   "execution_count": 39,
   "metadata": {
    "collapsed": false,
    "scrolled": true
   },
   "outputs": [
    {
     "name": "stdout",
     "output_type": "stream",
     "text": [
      "             precision    recall  f1-score   support\n",
      "\n",
      "          0       0.76      0.77      0.77      1000\n",
      "          1       0.86      0.88      0.87      1000\n",
      "          2       0.71      0.51      0.59      1000\n",
      "          3       0.57      0.51      0.54      1000\n",
      "          4       0.70      0.68      0.69      1000\n",
      "          5       0.65      0.68      0.66      1000\n",
      "          6       0.71      0.86      0.78      1000\n",
      "          7       0.84      0.78      0.81      1000\n",
      "          8       0.82      0.86      0.84      1000\n",
      "          9       0.77      0.89      0.83      1000\n",
      "\n",
      "avg / total       0.74      0.74      0.74     10000\n",
      "\n"
     ]
    },
    {
     "data": {
      "image/png": "[encoded data removed]",
      "text/plain": [
       "<matplotlib.figure.Figure at 0x7fea10c72400>"
      ]
     },
     "metadata": {},
     "output_type": "display_data"
    }
   ],
   "source": [
    "#look at confusion matrix and classification report\n",
    "from sklearn.metrics import confusion_matrix, classification_report\n",
    "with tf.Session() as sess:\n",
    "    saver.restore(sess, tf.train.latest_checkpoint('.'))\n",
    "    total_predictions = None\n",
    "    num_examples = len(X_test)\n",
    "    sess = tf.get_default_session()\n",
    "    #do it in batches so we don't run out of memory \n",
    "    for offset in range(0, num_examples, 6000):\n",
    "        batch_x, batch_y = X_test[offset:offset+6000], y_test[offset:offset+6000]\n",
    "        predictions = sess.run(tf.argmax(logits, 1),feed_dict={x: batch_x, y: batch_y, keep_prob: 1.0, keep_prob2: 1.0, rate: 0.001})\n",
    "        #print(predictions.shape)\n",
    "        if(total_predictions is None):\n",
    "            total_predictions = predictions\n",
    "        else:\n",
    "            total_predictions = np.hstack([total_predictions,predictions])\n",
    "            \n",
    "    mat = confusion_matrix(y_test,total_predictions)\n",
    "    plt.imshow(mat, interpolation='nearest')\n",
    "    report = classification_report(y_test,total_predictions)\n",
    "    print(report)"
   ]
  },
  {
   "cell_type": "markdown",
   "metadata": {},
   "source": [
    "**Answer:**"
   ]
  },
  {
   "cell_type": "markdown",
   "metadata": {},
   "source": [
    "> **Note**: Once you have completed all of the code implementations and successfully answered each question above, you may finalize your work by exporting the iPython Notebook as an HTML document. You can do this by using the menu above and navigating to  \\n\",\n",
    "    \"**File -> Download as -> HTML (.html)**. Include the finished document along with this notebook as your submission."
   ]
  },
  {
   "cell_type": "code",
   "execution_count": null,
   "metadata": {
    "collapsed": true
   },
   "outputs": [],
   "source": []
  }
 ],
 "metadata": {
  "anaconda-cloud": {},
  "kernelspec": {
   "display_name": "Python 3",
   "language": "python",
   "name": "python3"
  },
  "language_info": {
   "codemirror_mode": {
    "name": "ipython",
    "version": 3
   },
   "file_extension": ".py",
   "mimetype": "text/x-python",
   "name": "python",
   "nbconvert_exporter": "python",
   "pygments_lexer": "ipython3",
   "version": "3.5.2"
  },
  "widgets": {
   "state": {},
   "version": "1.1.2"
  }
 },
 "nbformat": 4,
 "nbformat_minor": 1
}
